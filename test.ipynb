{
 "cells": [
  {
   "cell_type": "code",
   "execution_count": null,
   "metadata": {},
   "outputs": [],
   "source": [
    "from PIL import Image\n",
    "import numpy as np\n",
    "import os\n",
    "import matplotlib.pyplot as plt\n",
    "from sklearn.cluster import DBSCAN, KMeans, MeanShift\n",
    "from sklearn.preprocessing import StandardScaler\n",
    "from sklearn.decomposition import PCA\n",
    "import cv2\n",
    "from sklearn.neighbors import NearestNeighbors\n",
    "from sklearn.metrics import davies_bouldin_score"
   ]
  },
  {
   "cell_type": "code",
   "execution_count": null,
   "metadata": {},
   "outputs": [],
   "source": [
    "folder_path = \"Data\\Testing Data set\"\n",
    "images = []\n",
    "for filename in os.listdir(folder_path):\n",
    "    if filename.endswith('.webp') or filename.endswith('.png'):\n",
    "        image_path = os.path.join(folder_path, filename)\n",
    "        image = cv2.imread(image_path)\n",
    "        image = cv2.cvtColor(image, cv2.COLOR_BGR2LAB)\n",
    "        image = image.reshape(-1)\n",
    "        images.append(image)"
   ]
  },
  {
   "cell_type": "code",
   "execution_count": null,
   "metadata": {},
   "outputs": [],
   "source": [
    "method = MeanShift()\n",
    "scaler = StandardScaler()\n",
    "fig , axs = plt.subplots(7,4,figsize=(12, 12))\n",
    "j = 1\n",
    "i = 1\n",
    "image = images[j*4+i].reshape((205, 280, 3))\n",
    "image = cv2.cvtColor(image, cv2.COLOR_LAB2RGB)\n",
    "\n",
    "data = image.reshape((-1, 3))\n",
    "data = scaler.fit_transform(data)\n",
    "\n",
    "method.fit(data)\n",
    "labels = method.labels_\n",
    "\n",
    "db = davies_bouldin_score(data, labels=labels)\n",
    "db = round(db, 2)\n",
    "\n",
    "axs[j, i].imshow(labels.reshape((205, 280)))\n",
    "axs[j, i].tick_params(axis='x', labelsize=8)\n",
    "axs[j, i].set_ylabel(f\"DB:{db}\")\n",
    "plt.savefig('Mean_shift_image_segmentation_db.png')\n",
    "plt.show()"
   ]
  }
 ],
 "metadata": {
  "language_info": {
   "name": "python"
  },
  "orig_nbformat": 4
 },
 "nbformat": 4,
 "nbformat_minor": 2
}
